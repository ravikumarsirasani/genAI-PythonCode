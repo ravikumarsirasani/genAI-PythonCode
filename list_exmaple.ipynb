{
  "nbformat": 4,
  "nbformat_minor": 0,
  "metadata": {
    "colab": {
      "provenance": [],
      "authorship_tag": "ABX9TyOGtC+ALZYWgbyUkSI4GUSg",
      "include_colab_link": true
    },
    "kernelspec": {
      "name": "python3",
      "display_name": "Python 3"
    },
    "language_info": {
      "name": "python"
    }
  },
  "cells": [
    {
      "cell_type": "markdown",
      "metadata": {
        "id": "view-in-github",
        "colab_type": "text"
      },
      "source": [
        "<a href=\"https://colab.research.google.com/github/ravikumarsirasani/genAI-PythonCode/blob/main/list_exmaple.ipynb\" target=\"_parent\"><img src=\"https://colab.research.google.com/assets/colab-badge.svg\" alt=\"Open In Colab\"/></a>"
      ]
    },
    {
      "cell_type": "code",
      "execution_count": 12,
      "metadata": {
        "colab": {
          "base_uri": "https://localhost:8080/"
        },
        "id": "W594eHsnTNbw",
        "outputId": "50eb7e53-89d1-4c8c-d66f-c1b5e74e7c41"
      },
      "outputs": [
        {
          "output_type": "stream",
          "name": "stdout",
          "text": [
            "[10, 'ravi', 'bhaskar', 2.0, 50]\n",
            "10\n",
            "ravi\n",
            "bhaskar\n",
            "2.0\n",
            "50\n",
            "[]\n"
          ]
        }
      ],
      "source": [
        "#list=[10,20,30,40,50] #smaple list\n",
        "list=[10,\"ravi\",\"bhaskar\",2.0,50]#integer,string,float example\n",
        "print(list)\n",
        "print(list[0])\n",
        "print(list[1])\n",
        "print(list[2])\n",
        "print(list[3])\n",
        "print(list[4])\n",
        "list=[]\n",
        "print(list)"
      ]
    }
  ]
}