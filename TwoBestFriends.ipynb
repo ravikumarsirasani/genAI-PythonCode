{
  "nbformat": 4,
  "nbformat_minor": 0,
  "metadata": {
    "colab": {
      "provenance": [],
      "authorship_tag": "ABX9TyORxfupG1KM42FZLIQk42fz",
      "include_colab_link": true
    },
    "kernelspec": {
      "name": "python3",
      "display_name": "Python 3"
    },
    "language_info": {
      "name": "python"
    }
  },
  "cells": [
    {
      "cell_type": "markdown",
      "metadata": {
        "id": "view-in-github",
        "colab_type": "text"
      },
      "source": [
        "<a href=\"https://colab.research.google.com/github/ravikumarsirasani/genAI-PythonCode/blob/main/TwoBestFriends.ipynb\" target=\"_parent\"><img src=\"https://colab.research.google.com/assets/colab-badge.svg\" alt=\"Open In Colab\"/></a>"
      ]
    },
    {
      "cell_type": "code",
      "source": [
        "# prompt: write code for two best friends with input\n",
        "\n",
        "def best_friends():\n",
        "  name1 = input(\"Enter the name of the first best friend: \")\n",
        "  name2 = input(\"Enter the name of the second best friend: \")\n",
        "\n",
        "  print(f\"{name1} and {name2} are best friends forever!\")\n",
        "\n",
        "best_friends()\n"
      ],
      "metadata": {
        "colab": {
          "base_uri": "https://localhost:8080/"
        },
        "id": "LvSaWFrOnoXF",
        "outputId": "897bb2d7-002a-480e-e0ac-131d6be27ea5"
      },
      "execution_count": 2,
      "outputs": [
        {
          "output_type": "stream",
          "name": "stdout",
          "text": [
            "Enter the name of the first best friend: Guna\n",
            "Enter the name of the second best friend: Bhaskar\n",
            "Guna and Bhaskar are best friends forever!\n"
          ]
        }
      ]
    }
  ]
}